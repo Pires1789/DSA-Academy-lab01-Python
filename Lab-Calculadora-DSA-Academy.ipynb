{
 "cells": [
  {
   "cell_type": "code",
   "execution_count": null,
   "id": "ea25c3be",
   "metadata": {},
   "outputs": [],
   "source": [
    "# Funções matemáticas\n",
    "\n"
   ]
  },
  {
   "cell_type": "code",
   "execution_count": 7,
   "id": "f1a23d69",
   "metadata": {},
   "outputs": [
    {
     "name": "stdout",
     "output_type": "stream",
     "text": [
      "\n",
      "******************* Python Calculator *******************\n",
      "Selecione a opção de cálculo: \n",
      "1 - Soma\n",
      "2 - Subtração\n",
      "3 - Multiplicação\n",
      "4 - Divisão\n",
      "Sua opção (1/2/3/4): \n",
      "None5\n",
      "Primeiro número1\n",
      "Segundo número2\n",
      "Não especificado\n"
     ]
    }
   ],
   "source": [
    "def soma(num1,num2):\n",
    "    resultado = num1 + num2\n",
    "    print('O seu resultado é: %s' %resultado)\n",
    "    \n",
    "def subtracao(num1,num2):\n",
    "   resultado1 = num1 - num2\n",
    "   print('O seu resultado é: %s' %resultado1)\n",
    "    \n",
    "\n",
    "def multiplicacao(num1,num2):\n",
    "    resultado2 = num1 * num2\n",
    "    print('O seu resultado é: %s' %resultado2)\n",
    "   \n",
    "def divisao(num1,num2):\n",
    "    resultado3 = num1 / num2\n",
    "    print('O seu resultado é: %s' %resultado3)\n",
    "    \n",
    "print(\"\\n******************* Python Calculator *******************\")\n",
    "\n",
    "print('Selecione a opção de cálculo: ')\n",
    "\n",
    "print('1 - Soma')\n",
    "print('2 - Subtração')\n",
    "print('3 - Multiplicação')\n",
    "print('4 - Divisão')\n",
    "\n",
    "inicio = input(print('Sua opção (1/2/3/4): '))\n",
    "inicio1 = int(inicio)\n",
    "\n",
    "num1 = int(input('Primeiro número'))\n",
    "num2 = int(input('Segundo número'))\n",
    "\n",
    "if inicio1 == 1:\n",
    "    soma(num1,num2)\n",
    "elif inicio1 == 2:\n",
    "    subtracao(num1,num2)\n",
    "elif inicio1 == 3:\n",
    "    multiplicacao(num1,num2)\n",
    "elif inicio1 == 4:\n",
    "    divisao(num1,num2)\n",
    "else: \n",
    "    print('Não especificado')\n",
    "\n"
   ]
  },
  {
   "cell_type": "code",
   "execution_count": null,
   "id": "8143e47c",
   "metadata": {},
   "outputs": [],
   "source": [
    "\n",
    "    "
   ]
  }
 ],
 "metadata": {
  "kernelspec": {
   "display_name": "Python 3 (ipykernel)",
   "language": "python",
   "name": "python3"
  },
  "language_info": {
   "codemirror_mode": {
    "name": "ipython",
    "version": 3
   },
   "file_extension": ".py",
   "mimetype": "text/x-python",
   "name": "python",
   "nbconvert_exporter": "python",
   "pygments_lexer": "ipython3",
   "version": "3.9.7"
  }
 },
 "nbformat": 4,
 "nbformat_minor": 5
}
